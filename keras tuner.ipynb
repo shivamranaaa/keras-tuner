{
 "cells": [
  {
   "cell_type": "code",
   "execution_count": 1,
   "id": "cff14185",
   "metadata": {},
   "outputs": [],
   "source": [
    "from tensorflow import keras\n",
    "\n",
    "from keras.layers import Dense\n",
    "from keras.layers import Dropout\n",
    "from keras.layers import Conv2D\n",
    "from keras.layers import Flatten\n",
    "from keras.layers import MaxPooling2D\n",
    "\n",
    "import keras_tuner as kt\n",
    "import numpy as np\n",
    "import cv2\n",
    "\n",
    "import tensorflow as tf\n",
    "from tensorflow.keras.models import Sequential"
   ]
  },
  {
   "cell_type": "code",
   "execution_count": 1,
   "id": "c45487bf",
   "metadata": {},
   "outputs": [],
   "source": [
    "(train_images,train_labels),(test_images,test_labels)=tf.keras.datasets.cifar10.load_data()"
   ]
  },
  {
   "cell_type": "code",
   "execution_count": 25,
   "id": "f0238583",
   "metadata": {},
   "outputs": [],
   "source": [
    "train_images=train_images/225.0\n",
    "test_images=test_images/255.0"
   ]
  },
  {
   "cell_type": "code",
   "execution_count": 3,
   "id": "d87d78ec",
   "metadata": {},
   "outputs": [
    {
     "data": {
      "text/plain": [
       "(50000, 32, 32, 3)"
      ]
     },
     "execution_count": 3,
     "metadata": {},
     "output_type": "execute_result"
    }
   ],
   "source": [
    "train_images.shape"
   ]
  },
  {
   "cell_type": "markdown",
   "id": "e443e95e",
   "metadata": {},
   "source": [
    "# CNN"
   ]
  },
  {
   "cell_type": "code",
   "execution_count": 5,
   "id": "8b656aa6",
   "metadata": {},
   "outputs": [],
   "source": [
    "model=keras.Sequential()\n",
    "\n",
    "model.add(Conv2D(\n",
    "    filters=64,kernel_size=(5,5),activation=\"relu\",padding='same',input_shape=(32, 32, 3))),\n",
    "\n",
    "model.add(MaxPooling2D(pool_size=(2, 2), strides=2, padding='valid')),\n",
    "\n",
    "model.add(Conv2D(filters=64,kernel_size=(5,5),activation=\"relu\",padding='same')),\n",
    "\n",
    "model.add(MaxPooling2D(pool_size=(2, 2), strides=2, padding='valid')),\n",
    "\n",
    "model.add(Flatten()),\n",
    "\n",
    "model.add(Dense(\n",
    "    units=64,activation=\"relu\"\n",
    ")),\n",
    "\n",
    "model.add(Dropout(.2)),\n",
    "\n",
    "model.add(Dense(\n",
    "    units=10,activation=\"softmax\"\n",
    "))\n",
    "\n",
    "model.compile(optimizer=\"Adam\",loss=\"sparse_categorical_crossentropy\",metrics=\"accuracy\")\n"
   ]
  },
  {
   "cell_type": "code",
   "execution_count": 12,
   "id": "84e5ff1c",
   "metadata": {},
   "outputs": [],
   "source": [
    "model.fit(train_images,train_labels,batch_size=100,epochs=1)"
   ]
  },
  {
   "cell_type": "code",
   "execution_count": 7,
   "id": "760c5f5d",
   "metadata": {},
   "outputs": [
    {
     "name": "stdout",
     "output_type": "stream",
     "text": [
      "Model: \"sequential\"\n",
      "_________________________________________________________________\n",
      "Layer (type)                 Output Shape              Param #   \n",
      "=================================================================\n",
      "module_wrapper (ModuleWrappe (100, 32, 32, 64)         4864      \n",
      "_________________________________________________________________\n",
      "module_wrapper_1 (ModuleWrap (100, 16, 16, 64)         0         \n",
      "_________________________________________________________________\n",
      "module_wrapper_2 (ModuleWrap (100, 16, 16, 64)         102464    \n",
      "_________________________________________________________________\n",
      "module_wrapper_3 (ModuleWrap (100, 8, 8, 64)           0         \n",
      "_________________________________________________________________\n",
      "module_wrapper_4 (ModuleWrap (100, 4096)               0         \n",
      "_________________________________________________________________\n",
      "module_wrapper_5 (ModuleWrap (100, 64)                 262208    \n",
      "_________________________________________________________________\n",
      "module_wrapper_6 (ModuleWrap (100, 64)                 0         \n",
      "_________________________________________________________________\n",
      "module_wrapper_7 (ModuleWrap (100, 10)                 650       \n",
      "=================================================================\n",
      "Total params: 370,186\n",
      "Trainable params: 370,186\n",
      "Non-trainable params: 0\n",
      "_________________________________________________________________\n",
      "None\n"
     ]
    }
   ],
   "source": [
    "print(model.summary())"
   ]
  },
  {
   "cell_type": "markdown",
   "id": "d364187d",
   "metadata": {},
   "source": [
    "# Keras tunner"
   ]
  },
  {
   "cell_type": "code",
   "execution_count": 18,
   "id": "9f639b5d",
   "metadata": {},
   "outputs": [],
   "source": [
    "def model_buli(hp):\n",
    "    \n",
    "    model=keras.Sequential()\n",
    "\n",
    "    model.add(Conv2D(\n",
    "        filters=hp.Int(\"filters_1\",min_value=32,max_value=128,step=16),\n",
    "        kernel_size=hp.Choice(\"kernel_size_1\",[3,5]),\n",
    "        activation=\"relu\",\n",
    "        input_shape=(32, 32, 3))),\n",
    "\n",
    "    model.add(MaxPooling2D(2,2)),\n",
    "\n",
    "    model.add(Conv2D(\n",
    "        filters=hp.Int(\"filters_1\",32,128,16),\n",
    "        kernel_size=hp.Choice(\"kernel_size_1\",[3,5]),\n",
    "        activation=\"relu\")),\n",
    "\n",
    "    model.add(MaxPooling2D(2,2)),\n",
    "\n",
    "    model.add(Flatten()),\n",
    "\n",
    "    model.add(Dense(\n",
    "        units=64,\n",
    "        activation=\"relu\"\n",
    "    )),\n",
    "\n",
    "    model.add(Dropout(.2)),\n",
    "\n",
    "    model.add(Dense(\n",
    "        units=10,\n",
    "        activation=\"softmax\"\n",
    "    ))\n",
    "\n",
    "    model.compile(optimizer=\"Adam\",loss=\"sparse_categorical_crossentropy\",metrics=\"accuracy\")\n",
    "    return model"
   ]
  },
  {
   "cell_type": "code",
   "execution_count": 19,
   "id": "8347d276",
   "metadata": {},
   "outputs": [
    {
     "name": "stdout",
     "output_type": "stream",
     "text": [
      "INFO:tensorflow:Reloading Oracle from existing project .\\untitled_project\\oracle.json\n"
     ]
    }
   ],
   "source": [
    "kersa_tuuuuner=kt.RandomSearch(model_buli,\n",
    "                               objective=\"val_accuracy\",\n",
    "                               max_trials=1)"
   ]
  },
  {
   "cell_type": "markdown",
   "id": "ac5cbbb5",
   "metadata": {},
   "source": [
    "# keras tuner"
   ]
  },
  {
   "cell_type": "code",
   "execution_count": 20,
   "id": "38d99fa5",
   "metadata": {},
   "outputs": [],
   "source": [
    "def model_buli(hp):\n",
    "    \n",
    "    model=keras.Sequential()\n",
    "\n",
    "    model.add(Conv2D(\n",
    "        filters=hp.Int(\"filters_1\",min_value=32,max_value=128,step=16),\n",
    "        kernel_size=hp.Choice(\"kernel_size_1\",[3,5]),\n",
    "        activation=\"relu\",\n",
    "        input_shape=(32, 32, 3))),\n",
    "\n",
    "    model.add(MaxPooling2D(2,2)),\n",
    "\n",
    "    model.add(Conv2D(\n",
    "        filters=hp.Int(\"filters_1\",32,128,16),\n",
    "        kernel_size=hp.Choice(\"kernel_size_1\",[3,5]),\n",
    "        activation=\"relu\")),\n",
    "\n",
    "    model.add(MaxPooling2D(2,2)),\n",
    "\n",
    "    model.add(Flatten()),\n",
    "\n",
    "    model = keras.Sequential()\n",
    "    model.add(keras.layers.Dense(hp.Choice('units', [8, 16, 32]),activation='relu'))\n",
    "\n",
    "    model.add(Dense(\n",
    "        units=10,\n",
    "        activation=\"softmax\"\n",
    "    ))\n",
    "\n",
    "    model.compile(optimizer=\"Adam\",loss=\"sparse_categorical_crossentropy\",metrics=\"accuracy\")\n",
    "    return model"
   ]
  },
  {
   "cell_type": "code",
   "execution_count": 21,
   "id": "6c736b66",
   "metadata": {},
   "outputs": [
    {
     "name": "stdout",
     "output_type": "stream",
     "text": [
      "INFO:tensorflow:Reloading Oracle from existing project .\\untitled_project\\oracle.json\n"
     ]
    }
   ],
   "source": [
    "kersa_tuuuuner=kt.RandomSearch(model_buli,\n",
    "                               objective=\"val_accuracy\",\n",
    "                               max_trials=1)"
   ]
  },
  {
   "cell_type": "markdown",
   "id": "f9024ca2",
   "metadata": {},
   "source": [
    "# Conv with ann layers"
   ]
  },
  {
   "cell_type": "code",
   "execution_count": 22,
   "id": "50c2b3b1",
   "metadata": {},
   "outputs": [],
   "source": [
    "def model_buli(hp):\n",
    "    \n",
    "    model=keras.Sequential()\n",
    "\n",
    "    model.add(Conv2D(\n",
    "        filters=hp.Int(\"filters_1\",min_value=32,max_value=128,step=16),\n",
    "        kernel_size=hp.Choice(\"kernel_size_1\",[3,5]),\n",
    "        activation=\"relu\",\n",
    "        input_shape=(32, 32, 3))),\n",
    "\n",
    "    model.add(MaxPooling2D(2,2)),\n",
    "\n",
    "    model.add(Conv2D(\n",
    "        filters=hp.Int(\"filters_1\",32,128,16),\n",
    "        kernel_size=hp.Choice(\"kernel_size_1\",[3,5]),\n",
    "        activation=\"relu\")),\n",
    "\n",
    "    model.add(MaxPooling2D(2,2)),\n",
    "\n",
    "    model.add(Flatten()),\n",
    "\n",
    "    for i in range(hp.Int('num_of_layers',2,20)):         \n",
    "        #providing range for number of neurons in hidden layers\n",
    "        model.add(Dense(units=hp.Int('num_of_neurons'+ str(i),min_value=32,max_value=512,step=32),\n",
    "                                    activation='relu'))\n",
    "    model.add(Dense(10,activation='softmax'))\n",
    "\n",
    "    model.compile(optimizer=\"Adam\",loss=\"sparse_categorical_crossentropy\",metrics=\"accuracy\")\n",
    "    return model"
   ]
  },
  {
   "cell_type": "code",
   "execution_count": 23,
   "id": "dafcbd54",
   "metadata": {},
   "outputs": [
    {
     "name": "stdout",
     "output_type": "stream",
     "text": [
      "INFO:tensorflow:Reloading Oracle from existing project .\\untitled_project\\oracle.json\n"
     ]
    }
   ],
   "source": [
    "kersa_tuuuuner=kt.RandomSearch(model_buli,\n",
    "                               objective=\"val_accuracy\",\n",
    "                               max_trials=1)"
   ]
  },
  {
   "cell_type": "markdown",
   "id": "ec612187",
   "metadata": {},
   "source": [
    "# tunner conv"
   ]
  },
  {
   "cell_type": "code",
   "execution_count": 27,
   "id": "02aa99f2",
   "metadata": {},
   "outputs": [],
   "source": [
    "from tensorflow.keras.layers import Dense,Dropout,Conv2D,Flatten,MaxPooling2D\n",
    "\n",
    "from tensorflow.keras.models import Sequential\n",
    "\n",
    "import keras_tuner as kt\n",
    "import numpy as np\n",
    "import cv2"
   ]
  },
  {
   "cell_type": "code",
   "execution_count": 28,
   "id": "544101f3",
   "metadata": {},
   "outputs": [],
   "source": [
    "def model_buli(hp):\n",
    "    \n",
    "    model=Sequential()\n",
    "\n",
    "    model.add(Conv2D(\n",
    "        filters=hp.Int(\"filters_1\",min_value=32,max_value=128,step=16),\n",
    "        kernel_size=hp.Choice(\"kernel_size_1\",[3,5]),\n",
    "        activation=\"relu\",\n",
    "        input_shape=(32, 32, 3))),\n",
    "    \n",
    "    for i in range(hp.Int('num_of_layers',2,20)):         \n",
    "        #providing range for number of neurons in hidden layers\n",
    "        model.add(Conv2D(\n",
    "            filters=hp.Int(\"filters\"+ str(i),min_value=32,max_value=128,step=16),\n",
    "            kernel_size=hp.Choice(\"kernel_size_\"+ str(i),[3,5]),\n",
    "            activation=\"relu\")),\n",
    "        \n",
    "    model.add(MaxPooling2D(2,2)),\n",
    "\n",
    "    model.add(Flatten()),\n",
    "\n",
    "    for i in range(hp.Int('num_of_layers',2,20)):         \n",
    "        #providing range for number of neurons in hidden layers\n",
    "        model.add(Dense(units=hp.Int('num_of_neurons'+ str(i),min_value=32,max_value=512,step=32),\n",
    "                                    activation='relu'))\n",
    "    model.add(Dense(10,activation='softmax'))\n",
    "\n",
    "    model.compile(optimizer=\"Adam\",loss=\"sparse_categorical_crossentropy\",metrics=\"accuracy\")\n",
    "    return model"
   ]
  },
  {
   "cell_type": "code",
   "execution_count": 29,
   "id": "f804e41c",
   "metadata": {},
   "outputs": [
    {
     "name": "stdout",
     "output_type": "stream",
     "text": [
      "INFO:tensorflow:Reloading Oracle from existing project .\\untitled_project\\oracle.json\n",
      "INFO:tensorflow:Reloading Tuner from .\\untitled_project\\tuner0.json\n"
     ]
    }
   ],
   "source": [
    "kersa_tuuuuner=kt.RandomSearch(model_buli,\n",
    "                               objective=\"val_accuracy\",\n",
    "                               max_trials=5)"
   ]
  },
  {
   "cell_type": "code",
   "execution_count": 30,
   "id": "d41d90f4",
   "metadata": {},
   "outputs": [
    {
     "name": "stdout",
     "output_type": "stream",
     "text": [
      "Search space summary\n",
      "Default search space size: 8\n",
      "filters_1 (Int)\n",
      "{'default': None, 'conditions': [], 'min_value': 32, 'max_value': 128, 'step': 16, 'sampling': None}\n",
      "kernel_size_1 (Choice)\n",
      "{'default': 3, 'conditions': [], 'values': [3, 5], 'ordered': True}\n",
      "num_of_layers (Int)\n",
      "{'default': None, 'conditions': [], 'min_value': 2, 'max_value': 20, 'step': 1, 'sampling': None}\n",
      "filters0 (Int)\n",
      "{'default': None, 'conditions': [], 'min_value': 32, 'max_value': 128, 'step': 16, 'sampling': None}\n",
      "kernel_size_0 (Choice)\n",
      "{'default': 3, 'conditions': [], 'values': [3, 5], 'ordered': True}\n",
      "filters1 (Int)\n",
      "{'default': None, 'conditions': [], 'min_value': 32, 'max_value': 128, 'step': 16, 'sampling': None}\n",
      "num_of_neurons0 (Int)\n",
      "{'default': None, 'conditions': [], 'min_value': 32, 'max_value': 512, 'step': 32, 'sampling': None}\n",
      "num_of_neurons1 (Int)\n",
      "{'default': None, 'conditions': [], 'min_value': 32, 'max_value': 512, 'step': 32, 'sampling': None}\n"
     ]
    }
   ],
   "source": [
    "kersa_tuuuuner.search_space_summary()"
   ]
  },
  {
   "cell_type": "code",
   "execution_count": 1,
   "id": "99630f3a",
   "metadata": {},
   "outputs": [],
   "source": [
    "kersa_tuuuuner.search(train_images, train_labels, epochs=1,validation_data=(test_images, test_labels))"
   ]
  },
  {
   "cell_type": "code",
   "execution_count": null,
   "id": "7ab5a188",
   "metadata": {},
   "outputs": [],
   "source": [
    "model=kersa_tuuuuner.get_best_models(num_models=1)[0]"
   ]
  },
  {
   "cell_type": "markdown",
   "id": "bbf2b194",
   "metadata": {},
   "source": [
    "## if image size is small then use "
   ]
  },
  {
   "cell_type": "code",
   "execution_count": 3,
   "id": "2f852889",
   "metadata": {},
   "outputs": [],
   "source": [
    "def model_buli(hp):\n",
    "    \n",
    "    model=Sequential()\n",
    "\n",
    "    model.add(Conv2D(\n",
    "        filters=hp.Int(\"filters_1\",min_value=32,max_value=128,step=16),\n",
    "        kernel_size=hp.Choice(\"kernel_size_1\",[3,5]),\n",
    "        activation=\"relu\",\n",
    "        input_shape=(32, 32, 3))),\n",
    "    \n",
    "    model.add(Conv2D(\n",
    "        filters=hp.Int(\"filters_2\",min_value=32,max_value=128,step=16),\n",
    "        kernel_size=hp.Choice(\"kernel_size_2\",[3,5]),\n",
    "        activation=\"relu\"))\n",
    "\n",
    "    model.add(Conv2D(\n",
    "        filters=hp.Int(\"filters_3\",min_value=32,max_value=128,step=16),\n",
    "        kernel_size=hp.Choice(\"kernel_size_3\",[3,5]),\n",
    "        activation=\"relu\"))\n",
    "    \n",
    "    model.add(Conv2D(\n",
    "        filters=hp.Int(\"filters_4\",min_value=32,max_value=128,step=16),\n",
    "        kernel_size=hp.Choice(\"kernel_size_4\",[3,5]),\n",
    "        activation=\"relu\"))\n",
    "\n",
    "    model.add(Conv2D(\n",
    "        filters=hp.Int(\"filters_5\",min_value=32,max_value=128,step=16),\n",
    "        kernel_size=hp.Choice(\"kernel_size_5\",[3,5]),\n",
    "        activation=\"relu\"))\n",
    "    \n",
    "    model.add(Conv2D(\n",
    "        filters=hp.Int(\"filters_6\",min_value=32,max_value=128,step=16),\n",
    "        kernel_size=hp.Choice(\"kernel_size_6\",[3,5]),\n",
    "        activation=\"relu\"))\n",
    "\n",
    "    model.add(Conv2D(\n",
    "        filters=hp.Int(\"filters_7\",min_value=32,max_value=128,step=16),\n",
    "        kernel_size=hp.Choice(\"kernel_size_7\",[3,5]),\n",
    "        activation=\"relu\"))\n",
    "\n",
    "\n",
    "    model.add(Flatten())\n",
    "\n",
    "    for i in range(hp.Int('num_of_layers',2,20)):         \n",
    "        #providing range for number of neurons in hidden layers\n",
    "        model.add(Dense(units=hp.Int('num_of_neurons'+ str(i),min_value=32,max_value=512,step=32),\n",
    "                                    activation='relu'))\n",
    "    model.add(Dense(10,activation='softmax'))\n",
    "\n",
    "    model.compile(optimizer=\"Adam\",loss=\"sparse_categorical_crossentropy\",metrics=\"accuracy\")\n",
    "    return model"
   ]
  },
  {
   "cell_type": "code",
   "execution_count": null,
   "id": "c345c487",
   "metadata": {},
   "outputs": [],
   "source": []
  }
 ],
 "metadata": {
  "kernelspec": {
   "display_name": "Python 3",
   "language": "python",
   "name": "python3"
  },
  "language_info": {
   "codemirror_mode": {
    "name": "ipython",
    "version": 3
   },
   "file_extension": ".py",
   "mimetype": "text/x-python",
   "name": "python",
   "nbconvert_exporter": "python",
   "pygments_lexer": "ipython3",
   "version": "3.8.8"
  }
 },
 "nbformat": 4,
 "nbformat_minor": 5
}
